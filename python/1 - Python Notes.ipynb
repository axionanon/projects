{
 "cells": [
  {
   "cell_type": "markdown",
   "id": "165afe4b-04af-43f0-93f9-b0ee79b7e7e9",
   "metadata": {},
   "source": [
    "# Python Crash Course Notes"
   ]
  },
  {
   "cell_type": "markdown",
   "id": "b0d79961",
   "metadata": {},
   "source": [
    "## Comments\n",
    "- A **comment** is a line of text ignored by Python.\n",
    "- Use a hashtag/octothorpe (#) to create a comment."
   ]
  },
  {
   "cell_type": "code",
   "execution_count": null,
   "id": "5f7086e1-1eb1-482c-a4a0-5fd1869fbc5c",
   "metadata": {
    "tags": []
   },
   "outputs": [],
   "source": [
    "# SELF NOTE: press cmd + / forward slash to automatically turn an entire line into a comment"
   ]
  },
  {
   "cell_type": "markdown",
   "id": "92e4dcbd-ae5d-4fe8-b2c0-c494fb605ca8",
   "metadata": {},
   "source": [
    "## Basic Data Types\n",
    "- An **integer** is a whole number.\n",
    "- A **floating-point** number is one with a fractional or decimal component.\n",
    "- A **string** is a piece of text. It's a collection of characters.\n",
    "- An **empty string** has a length of 0 characters.\n",
    "- A **Boolean** is a type whose value can only be True or False.\n",
    "- **None** is a special Python type that represents nothingness, blankness, or the absence of a value.\n",
    "- The operations that can be performed on a value depend on its type. There are functionalities that we can do with strings but not numbers, and vice versa."
   ]
  },
  {
   "cell_type": "code",
   "execution_count": 28,
   "id": "939bdf3f-d6c5-4ab6-8fd6-b513722c815b",
   "metadata": {},
   "outputs": [
    {
     "data": {
      "text/plain": [
       "int"
      ]
     },
     "execution_count": 28,
     "metadata": {},
     "output_type": "execute_result"
    }
   ],
   "source": [
    "type(9)"
   ]
  },
  {
   "cell_type": "code",
   "execution_count": 30,
   "id": "9cfdb9d8-44f0-43ba-a2c6-b618b8760ae2",
   "metadata": {},
   "outputs": [
    {
     "data": {
      "text/plain": [
       "str"
      ]
     },
     "execution_count": 30,
     "metadata": {},
     "output_type": "execute_result"
    }
   ],
   "source": [
    "type(\"understand\")"
   ]
  },
  {
   "cell_type": "markdown",
   "id": "3271e1b9",
   "metadata": {},
   "source": [
    "## Operators\n",
    "- An **operator** is a symbol that performs an operation (mathematical, logical, etc).\n",
    "- Python supports all traditional mathematical operation - `+` for addition, `-` for subtraction, `*` for multiplication, and `/` for division.\n",
    "- The floor division operator (`//`) leaves off the floating point portion of a division result.\n",
    "- The `+` operator performs concatenation when used with strings.\n",
    "- The equality operator (`==`) returns True if two values are equal to each other.\n",
    "- The inequality operator (`!=`) returns True if two values are unequal to each other."
   ]
  },
  {
   "cell_type": "code",
   "execution_count": 33,
   "id": "18c1be1f",
   "metadata": {},
   "outputs": [
    {
     "data": {
      "text/plain": [
       "'boolean'"
      ]
     },
     "execution_count": 33,
     "metadata": {},
     "output_type": "execute_result"
    }
   ],
   "source": [
    "\"bool\"+\"ean\"\n",
    "\"bool\" + \"ean\""
   ]
  },
  {
   "cell_type": "code",
   "execution_count": 35,
   "id": "976f03ae-e196-4726-8762-079aa0db7e43",
   "metadata": {
    "tags": []
   },
   "outputs": [
    {
     "data": {
      "text/plain": [
       "'booboobooboobooboobooboobooboo'"
      ]
     },
     "execution_count": 35,
     "metadata": {},
     "output_type": "execute_result"
    }
   ],
   "source": [
    "\"boo\" * 10"
   ]
  },
  {
   "cell_type": "code",
   "execution_count": 37,
   "id": "66a67875-de12-4f73-a235-8d93472e8599",
   "metadata": {
    "tags": []
   },
   "outputs": [
    {
     "data": {
      "text/plain": [
       "'booboobooboobooboobooboobooboo'"
      ]
     },
     "execution_count": 37,
     "metadata": {},
     "output_type": "execute_result"
    }
   ],
   "source": [
    "'boo' *10"
   ]
  },
  {
   "cell_type": "code",
   "execution_count": 39,
   "id": "58b969aa-77b8-4bb9-a108-d345e7fb760c",
   "metadata": {
    "tags": []
   },
   "outputs": [
    {
     "data": {
      "text/plain": [
       "2.1666666666666665"
      ]
     },
     "execution_count": 39,
     "metadata": {},
     "output_type": "execute_result"
    }
   ],
   "source": [
    "13/6"
   ]
  },
  {
   "cell_type": "code",
   "execution_count": 41,
   "id": "5054b8ca-f00d-45b6-b283-2836b2771ef8",
   "metadata": {
    "tags": []
   },
   "outputs": [
    {
     "data": {
      "text/plain": [
       "2"
      ]
     },
     "execution_count": 41,
     "metadata": {},
     "output_type": "execute_result"
    }
   ],
   "source": [
    "13//6 #floor division operator"
   ]
  },
  {
   "cell_type": "code",
   "execution_count": 43,
   "id": "0ba77ba9-43b6-46d6-8118-509a1d3eda48",
   "metadata": {
    "tags": []
   },
   "outputs": [
    {
     "data": {
      "text/plain": [
       "0"
      ]
     },
     "execution_count": 43,
     "metadata": {},
     "output_type": "execute_result"
    }
   ],
   "source": [
    "13%6 #module operator\n",
    "15%3"
   ]
  },
  {
   "cell_type": "code",
   "execution_count": 45,
   "id": "e4bc6e3b-3393-4dc0-b02b-cf040fb88c32",
   "metadata": {
    "tags": []
   },
   "outputs": [
    {
     "data": {
      "text/plain": [
       "False"
      ]
     },
     "execution_count": 45,
     "metadata": {},
     "output_type": "execute_result"
    }
   ],
   "source": [
    "3 == 4 #equality operator\n",
    "\"Hello\" == \"Hello\"\n",
    "\"rapscallion\" == \"bye\"\n",
    "True == False"
   ]
  },
  {
   "cell_type": "code",
   "execution_count": 47,
   "id": "235b7338-b7e2-4e1a-84f9-53a15eb7e7a5",
   "metadata": {
    "tags": []
   },
   "outputs": [
    {
     "data": {
      "text/plain": [
       "True"
      ]
     },
     "execution_count": 47,
     "metadata": {},
     "output_type": "execute_result"
    }
   ],
   "source": [
    "2 != 3 #inequality operator\n",
    "5 != 5 \n",
    "\"hello\" != \"Hello\""
   ]
  },
  {
   "cell_type": "code",
   "execution_count": 49,
   "id": "59b1b107-89c3-48f2-a29a-2a078ea73aa6",
   "metadata": {
    "tags": []
   },
   "outputs": [
    {
     "data": {
      "text/plain": [
       "False"
      ]
     },
     "execution_count": 49,
     "metadata": {},
     "output_type": "execute_result"
    }
   ],
   "source": [
    "2 <= 3\n",
    "4 > 2\n",
    "4 >= 7"
   ]
  },
  {
   "cell_type": "markdown",
   "id": "a7bc67a9",
   "metadata": {},
   "source": [
    "## Variables\n",
    "- A **variable** is a name for a value in your program. It is a placeholder for the value.\n",
    "- The value that a variable represents can *vary* over a program.\n",
    "- Multi-word variable names should follow a `snake_case` naming convention.\n",
    "- Python evaluates the right-hand side of an equal sign first.\n",
    "- The `len` function returns the length of its argument."
   ]
  },
  {
   "cell_type": "code",
   "execution_count": 52,
   "id": "06765506-d200-4b47-a2e4-0e189cd00f89",
   "metadata": {
    "tags": []
   },
   "outputs": [],
   "source": [
    "#snake_case_formatting\n",
    "fake_name = \"Gonrid\"\n",
    "you_are_insipid = True\n",
    "profession = \"Professional Casanova\"\n",
    "fake_name + \" the Great\"\n",
    "profession\n",
    "age = 64"
   ]
  },
  {
   "cell_type": "code",
   "execution_count": 54,
   "id": "14046d65-15b2-4f5a-a33d-1cf4519a527b",
   "metadata": {
    "tags": []
   },
   "outputs": [
    {
     "data": {
      "text/plain": [
       "64"
      ]
     },
     "execution_count": 54,
     "metadata": {},
     "output_type": "execute_result"
    }
   ],
   "source": [
    "age"
   ]
  },
  {
   "cell_type": "code",
   "execution_count": 56,
   "id": "71137fe3-fb6a-405a-a14a-1bb9fd1fb4a1",
   "metadata": {
    "tags": []
   },
   "outputs": [],
   "source": [
    "old = age + 38"
   ]
  },
  {
   "cell_type": "code",
   "execution_count": 58,
   "id": "2067023e-a2dd-4266-94f1-742808895ead",
   "metadata": {
    "tags": []
   },
   "outputs": [
    {
     "data": {
      "text/plain": [
       "102"
      ]
     },
     "execution_count": 58,
     "metadata": {},
     "output_type": "execute_result"
    }
   ],
   "source": [
    "old"
   ]
  },
  {
   "cell_type": "markdown",
   "id": "42d67a50",
   "metadata": {},
   "source": [
    "## Built-in Functions\n",
    "- A **function** is a repeatable procedure.\n",
    "- A **function** can accept inputs (which are called **arguments**).\n",
    "- A **function** produces a **return value**, which is the \"output\" of the function.\n",
    "- The technical term for running/executing a function is \"invoking\" or \"calling\".\n",
    "- Invoke a function with a pair of parentheses.\n",
    "- The `len` function returns the length of its argument.\n",
    "- The `str` function converts its argument to a string.\n",
    "- The `int` function converts its argument to an integer.\n",
    "- The `float` function converts its argument to a floating-point.\n",
    "- The `type` function returns the type of its argument (the kind of value it is)."
   ]
  },
  {
   "cell_type": "code",
   "execution_count": 61,
   "id": "c876360e-9043-458c-a10e-97815c43eb2f",
   "metadata": {
    "tags": []
   },
   "outputs": [
    {
     "data": {
      "text/plain": [
       "12"
      ]
     },
     "execution_count": 61,
     "metadata": {},
     "output_type": "execute_result"
    }
   ],
   "source": [
    "len('parsimonious')"
   ]
  },
  {
   "cell_type": "code",
   "execution_count": 63,
   "id": "54c11642-a975-43c5-938c-83b173c1ef16",
   "metadata": {
    "tags": []
   },
   "outputs": [
    {
     "data": {
      "text/plain": [
       "int"
      ]
     },
     "execution_count": 63,
     "metadata": {},
     "output_type": "execute_result"
    }
   ],
   "source": [
    "type(35)"
   ]
  },
  {
   "cell_type": "code",
   "execution_count": 65,
   "id": "686e22fa-67a7-481b-8689-23f73f812ead",
   "metadata": {
    "tags": []
   },
   "outputs": [
    {
     "data": {
      "text/plain": [
       "float"
      ]
     },
     "execution_count": 65,
     "metadata": {},
     "output_type": "execute_result"
    }
   ],
   "source": [
    "type(35.78)"
   ]
  },
  {
   "cell_type": "code",
   "execution_count": 67,
   "id": "f8cd75b3-0ee2-490b-9c80-6af66456811d",
   "metadata": {
    "tags": []
   },
   "outputs": [
    {
     "data": {
      "text/plain": [
       "bool"
      ]
     },
     "execution_count": 67,
     "metadata": {},
     "output_type": "execute_result"
    }
   ],
   "source": [
    "type(\"dastardly\")\n",
    "type(True)"
   ]
  },
  {
   "cell_type": "code",
   "execution_count": 69,
   "id": "270c8bf5-4523-4b25-a73b-15769307fad4",
   "metadata": {
    "tags": []
   },
   "outputs": [
    {
     "data": {
      "text/plain": [
       "4.0"
      ]
     },
     "execution_count": 69,
     "metadata": {},
     "output_type": "execute_result"
    }
   ],
   "source": [
    "float(2.65558478)\n",
    "float(4)"
   ]
  },
  {
   "cell_type": "code",
   "execution_count": 71,
   "id": "5b7ffcbb-4720-42cc-b9a3-8cfefe013366",
   "metadata": {
    "tags": []
   },
   "outputs": [
    {
     "data": {
      "text/plain": [
       "'4'"
      ]
     },
     "execution_count": 71,
     "metadata": {},
     "output_type": "execute_result"
    }
   ],
   "source": [
    "str(3.686)\n",
    "str(4)"
   ]
  },
  {
   "cell_type": "markdown",
   "id": "cf976284",
   "metadata": {},
   "source": [
    "## Custom Functions\n",
    "- Define a function with the `def` keyword, a name, a parameter list, and a colon.\n",
    "- Functions names should follow a `snake_case` naming convention.\n",
    "- A **parameter** is a name for an expected input.\n",
    "- Write the function's logic inside a nested block. The end of the block marks the end of the function logic.\n",
    "- Variables declared inside a function body will only last as long as the function runs.\n",
    "- Use the **return** keyword to specify the function's return value (output).\n",
    "- When invoking a function, we can pass in argument sequentially or with explicit parameter names.\n",
    "- A **default argument** is a fallback value that Python will provide if an argument is not passed for a parameter during invocation."
   ]
  },
  {
   "cell_type": "code",
   "execution_count": 74,
   "id": "5b251bcf",
   "metadata": {},
   "outputs": [],
   "source": [
    "#Declare a function that accepts a temperature in Celsius and returns in Fahrenheit\n",
    "def convert_fahrenheit(celsius_temp): #inside parentheses, we write parameters. i.e. name for an expected argument.\n",
    "    #Step 1                           #remember an 'argument' is an input\n",
    "    #Step 2\n",
    "    #Step 3\n",
    "    calc_1 = celsius_temp * 1.8\n",
    "    return calc_1 + 32    #return value is the output of the function\n",
    "    #in conclusion - def keyword, name of function, name of parameter\n",
    "    #to add other parameters, celsius_temp, parameter1, parameter2\n"
   ]
  },
  {
   "cell_type": "code",
   "execution_count": 76,
   "id": "50ef6f0a-a9d2-4e03-8c2a-570246d34729",
   "metadata": {},
   "outputs": [
    {
     "data": {
      "text/plain": [
       "5"
      ]
     },
     "execution_count": 76,
     "metadata": {},
     "output_type": "execute_result"
    }
   ],
   "source": [
    "len(\"hello\")\n",
    "#USEFUL TIP!! - press tab key to autofill in any functions you defined"
   ]
  },
  {
   "cell_type": "code",
   "execution_count": 78,
   "id": "56b074bc-6296-43a1-8d0b-317685d9972c",
   "metadata": {},
   "outputs": [
    {
     "data": {
      "text/plain": [
       "60.8"
      ]
     },
     "execution_count": 78,
     "metadata": {},
     "output_type": "execute_result"
    }
   ],
   "source": [
    "convert_fahrenheit(0)\n",
    "convert_fahrenheit(16)"
   ]
  },
  {
   "cell_type": "code",
   "execution_count": 80,
   "id": "ac1a5d5e-2e85-4d29-9c54-8eb383c6f360",
   "metadata": {},
   "outputs": [
    {
     "data": {
      "text/plain": [
       "68.0"
      ]
     },
     "execution_count": 80,
     "metadata": {},
     "output_type": "execute_result"
    }
   ],
   "source": [
    "#other method of getting the same results\n",
    "convert_fahrenheit(celsius_temp=20)"
   ]
  },
  {
   "cell_type": "code",
   "execution_count": 82,
   "id": "4f235e43-39dc-484f-9d7e-a7ad956bc877",
   "metadata": {
    "tags": []
   },
   "outputs": [],
   "source": [
    "def convert_willy(nilly, silly, billy):\n",
    "    calc_2 = nilly * 25\n",
    "    calc_3 = silly * 25\n",
    "    calc_4 = billy * 25\n",
    "    return calc_2 / 25, calc_3 /25, calc_4 / 25"
   ]
  },
  {
   "cell_type": "code",
   "execution_count": 84,
   "id": "42b44c9f-6455-430e-b5d5-6721e4f814cf",
   "metadata": {},
   "outputs": [
    {
     "data": {
      "text/plain": [
       "(4.0, 2.0, 3.0)"
      ]
     },
     "execution_count": 84,
     "metadata": {},
     "output_type": "execute_result"
    }
   ],
   "source": [
    "convert_willy(4,2,3)"
   ]
  },
  {
   "cell_type": "code",
   "execution_count": 86,
   "id": "949e1c4e-2613-40c7-81d8-3d7aef5ca14e",
   "metadata": {},
   "outputs": [
    {
     "data": {
      "text/plain": [
       "(4.0, 3.0, 9.0)"
      ]
     },
     "execution_count": 86,
     "metadata": {},
     "output_type": "execute_result"
    }
   ],
   "source": [
    "convert_willy(nilly=4, silly=3, billy=9)"
   ]
  },
  {
   "cell_type": "code",
   "execution_count": 88,
   "id": "3967381b-148b-4582-b3fa-49b9dea41801",
   "metadata": {},
   "outputs": [],
   "source": [
    "#DEFAULT ARGUMENT \n",
    "# in order to run the function, you need a value for celsius_temp. but you can provide a fallback value\n",
    "# so you're telling python what to use for a parameter if value isnt provided\n",
    "\n",
    "def convert_fahrenheit(celsius_temp=0):  # specifies if celsius temp is missing, sub as 0\n",
    "    calc_1 = celsius_temp * 1.8\n",
    "    return calc_1 + 32"
   ]
  },
  {
   "cell_type": "code",
   "execution_count": 90,
   "id": "72a13fae-a306-4175-a7ab-b9a0ac7eeea9",
   "metadata": {},
   "outputs": [
    {
     "data": {
      "text/plain": [
       "32.0"
      ]
     },
     "execution_count": 90,
     "metadata": {},
     "output_type": "execute_result"
    }
   ],
   "source": [
    "convert_fahrenheit()"
   ]
  },
  {
   "cell_type": "code",
   "execution_count": 92,
   "id": "85a0524e-143f-421a-868c-45db67eab775",
   "metadata": {},
   "outputs": [],
   "source": [
    "#remember Variables declared inside a function body will only last as long as the function runs.\n",
    "# this means if we type \"calc_1\", it won't work by itself. see below. "
   ]
  },
  {
   "cell_type": "code",
   "execution_count": null,
   "id": "167ec8e5-4cac-40ad-a1a5-500988a3baba",
   "metadata": {},
   "outputs": [],
   "source": []
  },
  {
   "cell_type": "code",
   "execution_count": 95,
   "id": "cb9e3e78-56f2-4fa2-b372-6f3973ce7aa0",
   "metadata": {},
   "outputs": [
    {
     "ename": "NameError",
     "evalue": "name 'calc_1' is not defined",
     "output_type": "error",
     "traceback": [
      "\u001b[0;31m---------------------------------------------------------------------------\u001b[0m",
      "\u001b[0;31mNameError\u001b[0m                                 Traceback (most recent call last)",
      "Cell \u001b[0;32mIn[95], line 1\u001b[0m\n\u001b[0;32m----> 1\u001b[0m calc_1\n",
      "\u001b[0;31mNameError\u001b[0m: name 'calc_1' is not defined"
     ]
    }
   ],
   "source": [
    "calc_1"
   ]
  },
  {
   "cell_type": "markdown",
   "id": "7875f148",
   "metadata": {},
   "source": [
    "## String Methods\n",
    "- An **object** is the technical term for a type. A string is an example of an object.\n",
    "- A **method** is like a function that belongs to an object.\n",
    "- To invoke a method, provide a period after the object, then the method name and a pair of parentheses.\n",
    "- We use similar terminology and syntax for functions and methods. We can invoke methods. We can pass arguments to methods. Methods can return values.\n",
    "- Objects can be **mutable** (capable of change) or **immutable** (incapable of change). A string is immutable.\n",
    "- Common string methods include `upper`, `lower`, `swapcase`, `title`, `capitalize`, and `strip`.\n",
    "- **Method chaining** refers to invoking methods on objects returned by previous method invocations. We create a link or \"chain\" of methods.\n",
    "- The **in** and **not in** keywords check for the presence and absence of a substring within a string."
   ]
  },
  {
   "cell_type": "code",
   "execution_count": 98,
   "id": "dc957854-a26c-4e7f-86bf-7d751f8529e8",
   "metadata": {},
   "outputs": [],
   "source": [
    "#object.method() \n",
    "profession = \"Swagmeister    \""
   ]
  },
  {
   "cell_type": "code",
   "execution_count": 100,
   "id": "710a5353-1f4d-499a-a983-5c6f8701ac11",
   "metadata": {},
   "outputs": [
    {
     "data": {
      "text/plain": [
       "'PYTHON DEVELOPER'"
      ]
     },
     "execution_count": 100,
     "metadata": {},
     "output_type": "execute_result"
    }
   ],
   "source": [
    "\"python developer\".upper()"
   ]
  },
  {
   "cell_type": "code",
   "execution_count": 102,
   "id": "cafbda47-8877-4825-bbf6-667dc63d099f",
   "metadata": {},
   "outputs": [
    {
     "data": {
      "text/plain": [
       "'porky pie'"
      ]
     },
     "execution_count": 102,
     "metadata": {},
     "output_type": "execute_result"
    }
   ],
   "source": [
    "\"PorKy pIe\".lower()"
   ]
  },
  {
   "cell_type": "code",
   "execution_count": 104,
   "id": "0af3c3a5-e09b-4213-8bf8-a08ddb105b22",
   "metadata": {},
   "outputs": [
    {
     "data": {
      "text/plain": [
       "'SWAGMEISTER    '"
      ]
     },
     "execution_count": 104,
     "metadata": {},
     "output_type": "execute_result"
    }
   ],
   "source": [
    "profession.upper()"
   ]
  },
  {
   "cell_type": "code",
   "execution_count": 106,
   "id": "4ffadd50-0fe4-4ac3-9ee3-f1fa59047bb3",
   "metadata": {},
   "outputs": [],
   "source": [
    "profession = \"swAGmeister, aniMal plaNet\""
   ]
  },
  {
   "cell_type": "code",
   "execution_count": 108,
   "id": "ec16e8a0-0cdc-46d3-ac0d-7227c54a4b1b",
   "metadata": {},
   "outputs": [
    {
     "data": {
      "text/plain": [
       "'SWagMEISTER, ANImAL PLAnET'"
      ]
     },
     "execution_count": 108,
     "metadata": {},
     "output_type": "execute_result"
    }
   ],
   "source": [
    "profession.swapcase()"
   ]
  },
  {
   "cell_type": "code",
   "execution_count": 110,
   "id": "6f9dc984-440b-4bce-a8e3-1b36b86c5ac3",
   "metadata": {},
   "outputs": [
    {
     "data": {
      "text/plain": [
       "'Swagmeister, Animal Planet'"
      ]
     },
     "execution_count": 110,
     "metadata": {},
     "output_type": "execute_result"
    }
   ],
   "source": [
    "profession.title()"
   ]
  },
  {
   "cell_type": "code",
   "execution_count": 112,
   "id": "d52fa46c-f491-4d1d-af45-b321dbbbf19d",
   "metadata": {},
   "outputs": [],
   "source": [
    "occupation = \"      key keeper    \""
   ]
  },
  {
   "cell_type": "code",
   "execution_count": 114,
   "id": "5f022822-f353-4e94-8103-c1bf6996aa09",
   "metadata": {},
   "outputs": [
    {
     "data": {
      "text/plain": [
       "'      key keeper'"
      ]
     },
     "execution_count": 114,
     "metadata": {},
     "output_type": "execute_result"
    }
   ],
   "source": [
    "occupation.lstrip()\n",
    "occupation.rstrip()"
   ]
  },
  {
   "cell_type": "code",
   "execution_count": 116,
   "id": "d3aff337-5541-438a-a0f0-1cc6f89f4702",
   "metadata": {},
   "outputs": [
    {
     "data": {
      "text/plain": [
       "'KEY KEEPER'"
      ]
     },
     "execution_count": 116,
     "metadata": {},
     "output_type": "execute_result"
    }
   ],
   "source": [
    "#Method Chaining\n",
    "#you can chain another method after already giving a command:\n",
    "occupation.lstrip().rstrip().upper()"
   ]
  },
  {
   "cell_type": "code",
   "execution_count": 118,
   "id": "d34ae548-9e5e-4ed5-976c-c7888c0476a5",
   "metadata": {},
   "outputs": [
    {
     "data": {
      "text/plain": [
       "'key keeper'"
      ]
     },
     "execution_count": 118,
     "metadata": {},
     "output_type": "execute_result"
    }
   ],
   "source": [
    "occupation.strip()"
   ]
  },
  {
   "cell_type": "code",
   "execution_count": 120,
   "id": "5a533ec1-408c-4928-a704-9dd7e84a151a",
   "metadata": {},
   "outputs": [
    {
     "data": {
      "text/plain": [
       "'swAGm*ist*r, aniMal plaN*t'"
      ]
     },
     "execution_count": 120,
     "metadata": {},
     "output_type": "execute_result"
    }
   ],
   "source": [
    "#The argument goes inside the parentheses:\n",
    "profession.strip().replace(\"e\", \"*\")"
   ]
  },
  {
   "cell_type": "code",
   "execution_count": 122,
   "id": "61c0d8f9-e08f-42b5-aa7f-eb6b2496ffca",
   "metadata": {},
   "outputs": [
    {
     "data": {
      "text/plain": [
       "False"
      ]
     },
     "execution_count": 122,
     "metadata": {},
     "output_type": "execute_result"
    }
   ],
   "source": [
    "profession.strip().startswith(\"p\")\n",
    "profession.strip().endswith(\"r\")"
   ]
  },
  {
   "cell_type": "code",
   "execution_count": 124,
   "id": "6fbbf1ee-79cb-467a-8d06-ea960670d937",
   "metadata": {},
   "outputs": [
    {
     "data": {
      "text/plain": [
       "True"
      ]
     },
     "execution_count": 124,
     "metadata": {},
     "output_type": "execute_result"
    }
   ],
   "source": [
    "# in - checks for inclusion\n",
    "\"vape\" in profession.strip()\n",
    "\"wag\" in profession.strip()\n",
    "\"wag\" not in profession.strip()"
   ]
  },
  {
   "cell_type": "markdown",
   "id": "56ea194e",
   "metadata": {},
   "source": [
    "## Lists\n",
    "- A **list** is a mutable data structure that holds an ordered collection of values.\n",
    "- We often use the term **element** to describe an item in the list.\n",
    "- The length of a list is its number of elements.\n",
    "- The **append** method adds an element to the end of the list.\n",
    "- The **pop** methods remove the last element from the list.\n",
    "- The **in** and **not in** keywords check whether or not an element exists within a list."
   ]
  },
  {
   "cell_type": "code",
   "execution_count": 127,
   "id": "7ca2ba11-4bbd-48a1-8571-ac04f3538184",
   "metadata": {},
   "outputs": [
    {
     "data": {
      "text/plain": [
       "[4, 2, 5]"
      ]
     },
     "execution_count": 127,
     "metadata": {},
     "output_type": "execute_result"
    }
   ],
   "source": [
    "[4, 2, 5]"
   ]
  },
  {
   "cell_type": "code",
   "execution_count": 129,
   "id": "52960ad6-0956-43f8-8c4f-69dbaa4cd63e",
   "metadata": {},
   "outputs": [],
   "source": [
    "enemy_watchlist = [\"tweenie bopper\", \"chad\", \"picklebum\"]"
   ]
  },
  {
   "cell_type": "code",
   "execution_count": 131,
   "id": "94b88a57-3a02-42df-9fd7-6683adf57312",
   "metadata": {},
   "outputs": [
    {
     "data": {
      "text/plain": [
       "list"
      ]
     },
     "execution_count": 131,
     "metadata": {},
     "output_type": "execute_result"
    }
   ],
   "source": [
    "len(enemy_watchlist)\n",
    "type(enemy_watchlist)"
   ]
  },
  {
   "cell_type": "code",
   "execution_count": 133,
   "id": "8a47e35b-d76d-4c6e-848f-c804aa41a59c",
   "metadata": {},
   "outputs": [
    {
     "data": {
      "text/plain": [
       "['tweenie bopper', 'chad', 'picklebum']"
      ]
     },
     "execution_count": 133,
     "metadata": {},
     "output_type": "execute_result"
    }
   ],
   "source": [
    "enemy_watchlist"
   ]
  },
  {
   "cell_type": "code",
   "execution_count": 135,
   "id": "60a1ea99-143a-4070-9030-26f44c2e921f",
   "metadata": {},
   "outputs": [],
   "source": [
    "presidents = [\"bob\", \"dan\", \"bill\"] #each name or value must be separated w \""
   ]
  },
  {
   "cell_type": "code",
   "execution_count": 137,
   "id": "5aaf7492-6661-4d56-ae73-9baca1a2eef6",
   "metadata": {},
   "outputs": [],
   "source": [
    "presidents.append(\"madison\")"
   ]
  },
  {
   "cell_type": "code",
   "execution_count": 139,
   "id": "eeeccdd2-a055-44c8-a92b-a100e4339cb9",
   "metadata": {},
   "outputs": [
    {
     "data": {
      "text/plain": [
       "['bob', 'dan', 'bill', 'madison']"
      ]
     },
     "execution_count": 139,
     "metadata": {},
     "output_type": "execute_result"
    }
   ],
   "source": [
    "presidents"
   ]
  },
  {
   "cell_type": "code",
   "execution_count": 141,
   "id": "02c866fa-6d52-41aa-a151-e32c177ad109",
   "metadata": {},
   "outputs": [
    {
     "name": "stdout",
     "output_type": "stream",
     "text": [
      "['dodo', 'mort', 'whale']\n"
     ]
    },
    {
     "data": {
      "text/plain": [
       "['dodo', 'mort']"
      ]
     },
     "execution_count": 141,
     "metadata": {},
     "output_type": "execute_result"
    }
   ],
   "source": [
    "animals = [\"dodo\", \"mort\", \"whale\"]\n",
    "print(animals)\n",
    "animals.pop()\n",
    "animals"
   ]
  },
  {
   "cell_type": "code",
   "execution_count": 143,
   "id": "efadfcdb-d9e7-4d05-8337-6f429e3d5096",
   "metadata": {},
   "outputs": [],
   "source": [
    "# list and array basically the same\n",
    "# data structure for storing items in order"
   ]
  },
  {
   "cell_type": "code",
   "execution_count": 145,
   "id": "b7a39c8c-8322-4d5c-92ed-e3db9e5216d3",
   "metadata": {},
   "outputs": [
    {
     "data": {
      "text/plain": [
       "['Mars', 'Jupiter', 'Saturn', 'Uranus']"
      ]
     },
     "execution_count": 145,
     "metadata": {},
     "output_type": "execute_result"
    }
   ],
   "source": [
    "planets = [\"Jupiter\", \"Saturn\", \"Uranus\"]\n",
    "planets.insert(0, \"Mars\")\n",
    "planets"
   ]
  },
  {
   "cell_type": "code",
   "execution_count": 147,
   "id": "e009a5f8-d05a-4904-8fb8-15778ca4a53c",
   "metadata": {},
   "outputs": [
    {
     "data": {
      "text/plain": [
       "False"
      ]
     },
     "execution_count": 147,
     "metadata": {},
     "output_type": "execute_result"
    }
   ],
   "source": [
    "\"Earth\" in planets"
   ]
  },
  {
   "cell_type": "code",
   "execution_count": 149,
   "id": "dc1e9345-fa98-4a88-9a0e-228c6cda8a37",
   "metadata": {},
   "outputs": [
    {
     "data": {
      "text/plain": [
       "True"
      ]
     },
     "execution_count": 149,
     "metadata": {},
     "output_type": "execute_result"
    }
   ],
   "source": [
    "\"Saturn\" not in presidents"
   ]
  },
  {
   "cell_type": "markdown",
   "id": "39e4d0be",
   "metadata": {},
   "source": [
    "## Index Positions and Slicing\n",
    "- Python assigns every string character an **index position** (an order in line).\n",
    "- Python assigns every list element an **index position** (an order in line).\n",
    "- The index starts counting at 0.\n",
    "- Use square brackets to extract a character/element by index position.\n",
    "- Use negative values to extract a character/element relative to the end of the object.\n",
    "- Use slicing to extract multiple character/elements.\n",
    "- The first index in a slice is inclusive. The second index in a slice is exclusive (Python will go up to that index but *not* include its value)."
   ]
  },
  {
   "cell_type": "code",
   "execution_count": 154,
   "id": "8758fc13-0fcf-41e1-8f72-63a53d460de8",
   "metadata": {},
   "outputs": [],
   "source": [
    "hero = \"batman\""
   ]
  },
  {
   "cell_type": "code",
   "execution_count": 156,
   "id": "438efa29-e57b-46fe-912f-aa2f34d956c2",
   "metadata": {},
   "outputs": [
    {
     "data": {
      "text/plain": [
       "6"
      ]
     },
     "execution_count": 156,
     "metadata": {},
     "output_type": "execute_result"
    }
   ],
   "source": [
    "len(hero)"
   ]
  },
  {
   "cell_type": "code",
   "execution_count": 158,
   "id": "d90422d4-d924-4572-819f-cbd6cb9429bc",
   "metadata": {},
   "outputs": [
    {
     "data": {
      "text/plain": [
       "'m'"
      ]
     },
     "execution_count": 158,
     "metadata": {},
     "output_type": "execute_result"
    }
   ],
   "source": [
    "hero[3] #begins counting from 0"
   ]
  },
  {
   "cell_type": "code",
   "execution_count": 212,
   "id": "f4dd33c7-3aa2-47db-980c-ea6ced7c3fd7",
   "metadata": {},
   "outputs": [
    {
     "data": {
      "text/plain": [
       "'a'"
      ]
     },
     "execution_count": 212,
     "metadata": {},
     "output_type": "execute_result"
    }
   ],
   "source": [
    "hero[4]"
   ]
  },
  {
   "cell_type": "code",
   "execution_count": 162,
   "id": "896260bd-644c-4c7f-9bf8-ca0aa30694b2",
   "metadata": {},
   "outputs": [
    {
     "data": {
      "text/plain": [
       "'a'"
      ]
     },
     "execution_count": 162,
     "metadata": {},
     "output_type": "execute_result"
    }
   ],
   "source": [
    "hero[-2]"
   ]
  },
  {
   "cell_type": "code",
   "execution_count": 164,
   "id": "3d699799-eb6b-491c-a715-d66418e5f168",
   "metadata": {},
   "outputs": [
    {
     "data": {
      "text/plain": [
       "'tm'"
      ]
     },
     "execution_count": 164,
     "metadata": {},
     "output_type": "execute_result"
    }
   ],
   "source": [
    "# SLICE - we can extract a chunk of the string\n",
    "hero[2:4] # up to 4 but not including 4"
   ]
  },
  {
   "cell_type": "code",
   "execution_count": 166,
   "id": "ec10a22e-9a15-4ed4-a521-2c286af32497",
   "metadata": {},
   "outputs": [
    {
     "data": {
      "text/plain": [
       "'tman'"
      ]
     },
     "execution_count": 166,
     "metadata": {},
     "output_type": "execute_result"
    }
   ],
   "source": [
    "hero[2:6]\n",
    "hero[2:300]\n",
    "hero[2:]\n",
    "#all accomplish the same goal here"
   ]
  },
  {
   "cell_type": "code",
   "execution_count": 168,
   "id": "bb86c514-285a-4fc1-918b-fa259755aac4",
   "metadata": {},
   "outputs": [
    {
     "data": {
      "text/plain": [
       "'batm'"
      ]
     },
     "execution_count": 168,
     "metadata": {},
     "output_type": "execute_result"
    }
   ],
   "source": [
    "hero[:4]"
   ]
  },
  {
   "cell_type": "code",
   "execution_count": 170,
   "id": "c41fda02-e3eb-4adf-ae7d-d5d8ff221117",
   "metadata": {},
   "outputs": [
    {
     "data": {
      "text/plain": [
       "'batman'"
      ]
     },
     "execution_count": 170,
     "metadata": {},
     "output_type": "execute_result"
    }
   ],
   "source": [
    "hero[:]"
   ]
  },
  {
   "cell_type": "code",
   "execution_count": 172,
   "id": "e6a17313-2536-4fb8-ae84-ff34b8a41708",
   "metadata": {},
   "outputs": [],
   "source": [
    "superheroes = [\"catman\", \"batman\", \"ratman\"]"
   ]
  },
  {
   "cell_type": "raw",
   "id": "d3a88387-9013-4db9-969c-f352413dae74",
   "metadata": {},
   "source": []
  },
  {
   "cell_type": "code",
   "execution_count": 174,
   "id": "5f03b5c9-40bb-49ea-bbf7-c04ad8bba640",
   "metadata": {},
   "outputs": [
    {
     "data": {
      "text/plain": [
       "['batman', 'ratman']"
      ]
     },
     "execution_count": 174,
     "metadata": {},
     "output_type": "execute_result"
    }
   ],
   "source": [
    "superheroes[1:]"
   ]
  },
  {
   "cell_type": "code",
   "execution_count": 176,
   "id": "c0da720d-1e67-45d5-8b2f-684aa56da7cd",
   "metadata": {},
   "outputs": [
    {
     "data": {
      "text/plain": [
       "'batman'"
      ]
     },
     "execution_count": 176,
     "metadata": {},
     "output_type": "execute_result"
    }
   ],
   "source": [
    "superheroes[-2]"
   ]
  },
  {
   "cell_type": "code",
   "execution_count": null,
   "id": "6ca83f7e-b500-40bd-b778-3fb338729ae9",
   "metadata": {},
   "outputs": [],
   "source": []
  },
  {
   "cell_type": "markdown",
   "id": "209b8921",
   "metadata": {},
   "source": [
    "## Dictionaries\n",
    "- A **dictionary** is a mutable, unordered collection of key-value pairs.\n",
    "- A **key** is a unique identifier for a value.\n",
    "- A **value** corresponds to the key. The values can contain duplicates.\n",
    "- Use a dictionary for **association** (i.e., to connect/map two values together). Use a list for **order**.\n",
    "- Declare a dictionary with a pair of curly braces.\n",
    "- Write a colon between every key and value.\n",
    "- Separate each key-value pair with a comma and a space.\n",
    "- The length of a dictionary is a count of its key-value pairs."
   ]
  },
  {
   "cell_type": "code",
   "execution_count": 181,
   "id": "8268bf89-5e60-428d-ad02-bde28a70b0c7",
   "metadata": {},
   "outputs": [],
   "source": [
    "menu = { \"funyuns\": 2.50, \"gasoline\": 4, \"bubblegum\": 49.22, \"smoked salmon\": 9.40 }"
   ]
  },
  {
   "cell_type": "code",
   "execution_count": 183,
   "id": "c7cf377b-63d9-4294-8042-273574023a10",
   "metadata": {},
   "outputs": [
    {
     "data": {
      "text/plain": [
       "4"
      ]
     },
     "execution_count": 183,
     "metadata": {},
     "output_type": "execute_result"
    }
   ],
   "source": [
    "len(menu)"
   ]
  },
  {
   "cell_type": "code",
   "execution_count": 185,
   "id": "b509546c-472e-4395-a553-5a478cfd76ea",
   "metadata": {},
   "outputs": [
    {
     "data": {
      "text/plain": [
       "4"
      ]
     },
     "execution_count": 185,
     "metadata": {},
     "output_type": "execute_result"
    }
   ],
   "source": [
    "menu[\"gasoline\"]"
   ]
  },
  {
   "cell_type": "code",
   "execution_count": 187,
   "id": "e5bd4afb-aef1-41f2-bcda-95a53851ada0",
   "metadata": {},
   "outputs": [
    {
     "data": {
      "text/plain": [
       "2.5"
      ]
     },
     "execution_count": 187,
     "metadata": {},
     "output_type": "execute_result"
    }
   ],
   "source": [
    "#menu[\"onion rings\"] - key error\n",
    "menu[\"funyuns\"]"
   ]
  },
  {
   "cell_type": "code",
   "execution_count": 189,
   "id": "94bda613-294e-4176-a909-7d8a81b8db5d",
   "metadata": {},
   "outputs": [],
   "source": [
    "menu[\"burrito\"] = 12.86"
   ]
  },
  {
   "cell_type": "markdown",
   "id": "14f88da7-9b0d-4689-830e-fc4a4cd4a5bd",
   "metadata": {},
   "source": []
  },
  {
   "cell_type": "code",
   "execution_count": 192,
   "id": "d16a03ed-0792-4e03-928a-ed2b4a602e57",
   "metadata": {},
   "outputs": [
    {
     "data": {
      "text/plain": [
       "{'funyuns': 2.5,\n",
       " 'gasoline': 4,\n",
       " 'bubblegum': 49.22,\n",
       " 'smoked salmon': 9.4,\n",
       " 'burrito': 12.86}"
      ]
     },
     "execution_count": 192,
     "metadata": {},
     "output_type": "execute_result"
    }
   ],
   "source": [
    "menu"
   ]
  },
  {
   "cell_type": "code",
   "execution_count": 194,
   "id": "efb57b4e-38f5-40d7-bfef-87ef3f633aa6",
   "metadata": {},
   "outputs": [
    {
     "data": {
      "text/plain": [
       "9.4"
      ]
     },
     "execution_count": 194,
     "metadata": {},
     "output_type": "execute_result"
    }
   ],
   "source": [
    "menu.pop(\"smoked salmon\")"
   ]
  },
  {
   "cell_type": "code",
   "execution_count": 196,
   "id": "9f0b28be-b0b3-4fb2-b0a8-cc2251babe98",
   "metadata": {},
   "outputs": [
    {
     "data": {
      "text/plain": [
       "{'funyuns': 2.5, 'gasoline': 4, 'bubblegum': 49.22, 'burrito': 12.86}"
      ]
     },
     "execution_count": 196,
     "metadata": {},
     "output_type": "execute_result"
    }
   ],
   "source": [
    "menu"
   ]
  },
  {
   "cell_type": "code",
   "execution_count": 198,
   "id": "3af08c01-a6f2-49df-86a4-04b05df38f26",
   "metadata": {},
   "outputs": [
    {
     "data": {
      "text/plain": [
       "False"
      ]
     },
     "execution_count": 198,
     "metadata": {},
     "output_type": "execute_result"
    }
   ],
   "source": [
    "\"gun\" in menu"
   ]
  },
  {
   "cell_type": "code",
   "execution_count": 200,
   "id": "8a248c07-5556-4029-b7a6-0fdcda1ed597",
   "metadata": {},
   "outputs": [
    {
     "data": {
      "text/plain": [
       "True"
      ]
     },
     "execution_count": 200,
     "metadata": {},
     "output_type": "execute_result"
    }
   ],
   "source": [
    "\"smoked salmon\" not in menu"
   ]
  },
  {
   "cell_type": "code",
   "execution_count": null,
   "id": "12ec3ef8-3201-41e7-ac65-17aa58a14c93",
   "metadata": {},
   "outputs": [],
   "source": []
  },
  {
   "cell_type": "markdown",
   "id": "f266aada-0759-4373-8874-7a6080a6a1a2",
   "metadata": {},
   "source": [
    "## Classes\n",
    "- A **class** is a blueprint/template for creating objects.\n",
    "- A **class** defines the methods/functionalities that objects made from it will have.\n",
    "- An object is called an **instance** of the class it is made from.\n",
    "- The act of creating an object from a class is called **instantiation**.\n",
    "- Every time we've worked with a Python object, it's been \"instantiated\" from a class.\n",
    "- In real world terms, a class is the blueprint and the house we build is the instance/object.\n",
    "- Syntax options like `\"\"` or `[]` or `{}` are shortcuts for instantiation.\n",
    "- For other classes, we'll need to use `class()` syntax to instantiate an object.\n",
    "- Much like functions and methods, some class instantiations will require arguments."
   ]
  },
  {
   "cell_type": "markdown",
   "id": "a62a901f-1f47-4682-925b-1564312e1fc2",
   "metadata": {
    "tags": []
   },
   "source": [
    "<img src=\"Blueprint.png\" width=\"600\" height=\"410\">"
   ]
  },
  {
   "cell_type": "markdown",
   "id": "40053702-9cb6-4f86-a03e-84fa97fb8b4e",
   "metadata": {},
   "source": [
    "## Navigating Libraries using Jupyter Lab"
   ]
  },
  {
   "cell_type": "code",
   "execution_count": 208,
   "id": "20545267-3f61-4c06-8318-601e9fae4b1e",
   "metadata": {
    "tags": []
   },
   "outputs": [],
   "source": [
    "import pandas as pd"
   ]
  },
  {
   "cell_type": "code",
   "execution_count": 210,
   "id": "a6b95663-b6cf-426a-8464-349813fbe947",
   "metadata": {},
   "outputs": [],
   "source": [
    "# pd.offsets.WeekOfMonth\n",
    "# press period then tab to see menu options. module is like another folder \n",
    "#or something that take us deeper within pandas.\n",
    "#used for housing/categorisation \n"
   ]
  }
 ],
 "metadata": {
  "kernelspec": {
   "display_name": "Python [conda env:base] *",
   "language": "python",
   "name": "conda-base-py"
  },
  "language_info": {
   "codemirror_mode": {
    "name": "ipython",
    "version": 3
   },
   "file_extension": ".py",
   "mimetype": "text/x-python",
   "name": "python",
   "nbconvert_exporter": "python",
   "pygments_lexer": "ipython3",
   "version": "3.12.7"
  }
 },
 "nbformat": 4,
 "nbformat_minor": 5
}
